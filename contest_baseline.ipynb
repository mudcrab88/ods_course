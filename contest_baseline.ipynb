{
 "cells": [
  {
   "cell_type": "code",
   "execution_count": 1,
   "metadata": {},
   "outputs": [],
   "source": [
    "import sys\n",
    "import os\n",
    "\n",
    "import pandas as pd\n",
    "import numpy as np\n",
    "import matplotlib.pyplot as plt\n",
    "%matplotlib inline\n",
    "\n",
    "from tqdm import tqdm, tqdm_notebook\n",
    "import datetime\n",
    "import xgboost\n",
    "from sklearn.preprocessing import StandardScaler, OneHotEncoder\n",
    "\n",
    "from sklearn.ensemble import RandomForestClassifier\n",
    "from sklearn.model_selection import GridSearchCV,cross_val_score, train_test_split\n",
    "from sklearn.metrics import classification_report, roc_auc_score, confusion_matrix\n",
    "from sklearn.externals import joblib\n",
    "\n",
    "import data_helpers as dh\n",
    "import data_iter1 as di\n",
    "import submit_report as rep\n",
    "import model_utils as mu\n",
    "\n",
    "from IPython.core.interactiveshell import InteractiveShell\n",
    "InteractiveShell.ast_node_interactivity = \"all\""
   ]
  },
  {
   "cell_type": "code",
   "execution_count": 2,
   "metadata": {},
   "outputs": [
    {
     "name": "stderr",
     "output_type": "stream",
     "text": [
      "E:\\Projects\\ods_course\\data_helpers.py:12: SettingWithCopyWarning: \n",
      "A value is trying to be set on a copy of a slice from a DataFrame.\n",
      "Try using .loc[row_indexer,col_indexer] = value instead\n",
      "\n",
      "See the caveats in the documentation: http://pandas.pydata.org/pandas-docs/stable/indexing.html#indexing-view-versus-copy\n",
      "  data['date'] = pd.to_datetime(data.timestamp, unit='s')\n",
      "E:\\Projects\\ods_course\\data_helpers.py:13: SettingWithCopyWarning: \n",
      "A value is trying to be set on a copy of a slice from a DataFrame.\n",
      "Try using .loc[row_indexer,col_indexer] = value instead\n",
      "\n",
      "See the caveats in the documentation: http://pandas.pydata.org/pandas-docs/stable/indexing.html#indexing-view-versus-copy\n",
      "  data['day'] = data.date.dt.date\n"
     ]
    }
   ],
   "source": [
    "# загрузка данных\n",
    "events  = pd.read_csv('event_data_train.csv')\n",
    "submissions = pd.read_csv('submissions_data_train.csv')\n",
    "\n",
    "# разделение данных для обучения на train и test\n",
    "_ = dh.split_events_submissions(events, submissions, test_size=0.3)\n",
    "events_train_orig, events_test_orig, submissions_train_orig, submissions_test_orig = _\n",
    "\n",
    "# подготовка данных\n",
    "X_train, y_train = di.get_x_y(events_train_orig, submissions_train_orig)\n",
    "X_test, y_test = di.get_x_y(events_test_orig, submissions_test_orig)\n",
    "\n",
    "#загрузка данных для предсказаний\n",
    "events_pred  = pd.read_csv('events_data_test.csv')\n",
    "submissions_pred = pd.read_csv('submission_data_test.csv')\n",
    "X_pred , _ = di.get_x_y(events_pred, submissions_pred)"
   ]
  },
  {
   "cell_type": "code",
   "execution_count": 3,
   "metadata": {},
   "outputs": [
    {
     "name": "stderr",
     "output_type": "stream",
     "text": [
      "E:\\Anaconda3\\lib\\site-packages\\ipykernel_launcher.py:6: FutureWarning: 'user_id' is both an index level and a column label.\n",
      "Defaulting to column, but this will raise an ambiguity error in a future version\n",
      "  \n"
     ]
    },
    {
     "data": {
      "text/plain": [
       "(19234, 11)"
      ]
     },
     "execution_count": 3,
     "metadata": {},
     "output_type": "execute_result"
    }
   ],
   "source": [
    "#Подготовка данных для тренировки модели\n",
    "X = X_train.append(X_test)\n",
    "y = y_train.append(y_test)\n",
    "user_min_time = events.groupby('user_id', as_index=False).agg({'timestamp':'min'})\n",
    "X['user_id'] = X.index\n",
    "X = X.merge(user_min_time[['user_id','timestamp']], how='outer')\n",
    "X['date'] = pd.to_datetime(X['timestamp'], unit = 's')\n",
    "X['day'] = X['date'].dt.date\n",
    "X['weekday'] = X['date'].dt.dayofweek\n",
    "#X = X.drop('user_id', axis=1)\n",
    "X = X.drop('timestamp', axis=1)\n",
    "X['year'] = X['date'].dt.year\n",
    "X['month'] = X['date'].dt.month\n",
    "X['hour'] = X['date'].dt.hour\n",
    "X = X.drop('day', axis=1)\n",
    "X = X.drop('date', axis=1)\n",
    "X.shape"
   ]
  },
  {
   "cell_type": "code",
   "execution_count": 4,
   "metadata": {},
   "outputs": [
    {
     "name": "stderr",
     "output_type": "stream",
     "text": [
      "E:\\Anaconda3\\lib\\site-packages\\ipykernel_launcher.py:4: FutureWarning: 'user_id' is both an index level and a column label.\n",
      "Defaulting to column, but this will raise an ambiguity error in a future version\n",
      "  after removing the cwd from sys.path.\n"
     ]
    },
    {
     "data": {
      "text/plain": [
       "(6184, 11)"
      ]
     },
     "execution_count": 4,
     "metadata": {},
     "output_type": "execute_result"
    }
   ],
   "source": [
    "#подготовка данных для предсказаний\n",
    "user_min_time_pred = events_pred.groupby('user_id', as_index=False).agg({'timestamp':'min'})\n",
    "X_pred['user_id'] = X_pred.index\n",
    "X_pred = X_pred.merge(user_min_time_pred[['user_id','timestamp']], how='outer')\n",
    "X_pred['date'] = pd.to_datetime(X_pred['timestamp'], unit = 's')\n",
    "X_pred['day'] = X_pred['date'].dt.date\n",
    "X_pred['weekday'] = X_pred['date'].dt.dayofweek\n",
    "X_pred = X_pred.drop('timestamp', axis=1)\n",
    "X_pred['year'] = X_pred['date'].dt.year\n",
    "X_pred['month'] = X_pred['date'].dt.month\n",
    "X_pred['hour'] = X_pred['date'].dt.hour\n",
    "X_pred = X_pred.drop('day', axis=1)\n",
    "X_pred = X_pred.drop('date', axis=1)\n",
    "X_pred.shape"
   ]
  },
  {
   "cell_type": "code",
   "execution_count": 22,
   "metadata": {},
   "outputs": [],
   "source": [
    "#данные для OneHotEncoder\n",
    "year = [2015, 2016, 2017, 2018, 2019]\n",
    "month = [1, 2, 3, 4, 5, 6, 7, 8, 9, 10, 11, 12]\n",
    "weekday = [0, 1, 2, 3, 4, 5, 6]\n",
    "hour = [0, 1, 2, 3, 4, 5, 6, 7, 8, 9, 10, 11, 12, 13, 14, 15, 16, 17, 18, 19, 20, 21, 22, 23]"
   ]
  },
  {
   "cell_type": "code",
   "execution_count": 19,
   "metadata": {},
   "outputs": [
    {
     "data": {
      "text/html": [
       "<div>\n",
       "<style scoped>\n",
       "    .dataframe tbody tr th:only-of-type {\n",
       "        vertical-align: middle;\n",
       "    }\n",
       "\n",
       "    .dataframe tbody tr th {\n",
       "        vertical-align: top;\n",
       "    }\n",
       "\n",
       "    .dataframe thead th {\n",
       "        text-align: right;\n",
       "    }\n",
       "</style>\n",
       "<table border=\"1\" class=\"dataframe\">\n",
       "  <thead>\n",
       "    <tr style=\"text-align: right;\">\n",
       "      <th></th>\n",
       "      <th>correct</th>\n",
       "      <th>wrong</th>\n",
       "      <th>discovered</th>\n",
       "      <th>passed</th>\n",
       "      <th>started_attempt</th>\n",
       "      <th>viewed</th>\n",
       "      <th>user_id</th>\n",
       "      <th>weekday</th>\n",
       "      <th>year</th>\n",
       "      <th>month</th>\n",
       "      <th>hour</th>\n",
       "      <th>year=2015</th>\n",
       "      <th>year=2016</th>\n",
       "      <th>year=2017</th>\n",
       "      <th>year=2018</th>\n",
       "      <th>year=2019</th>\n",
       "    </tr>\n",
       "  </thead>\n",
       "  <tbody>\n",
       "    <tr>\n",
       "      <th>0</th>\n",
       "      <td>4.0</td>\n",
       "      <td>4.0</td>\n",
       "      <td>15</td>\n",
       "      <td>15</td>\n",
       "      <td>4</td>\n",
       "      <td>20</td>\n",
       "      <td>3</td>\n",
       "      <td>0</td>\n",
       "      <td>2015</td>\n",
       "      <td>6</td>\n",
       "      <td>8</td>\n",
       "      <td>1.0</td>\n",
       "      <td>0.0</td>\n",
       "      <td>0.0</td>\n",
       "      <td>0.0</td>\n",
       "      <td>0.0</td>\n",
       "    </tr>\n",
       "    <tr>\n",
       "      <th>1</th>\n",
       "      <td>2.0</td>\n",
       "      <td>2.0</td>\n",
       "      <td>1</td>\n",
       "      <td>1</td>\n",
       "      <td>0</td>\n",
       "      <td>1</td>\n",
       "      <td>5</td>\n",
       "      <td>4</td>\n",
       "      <td>2016</td>\n",
       "      <td>6</td>\n",
       "      <td>9</td>\n",
       "      <td>0.0</td>\n",
       "      <td>1.0</td>\n",
       "      <td>0.0</td>\n",
       "      <td>0.0</td>\n",
       "      <td>0.0</td>\n",
       "    </tr>\n",
       "    <tr>\n",
       "      <th>2</th>\n",
       "      <td>0.0</td>\n",
       "      <td>0.0</td>\n",
       "      <td>1</td>\n",
       "      <td>1</td>\n",
       "      <td>0</td>\n",
       "      <td>1</td>\n",
       "      <td>7</td>\n",
       "      <td>2</td>\n",
       "      <td>2018</td>\n",
       "      <td>3</td>\n",
       "      <td>12</td>\n",
       "      <td>0.0</td>\n",
       "      <td>0.0</td>\n",
       "      <td>0.0</td>\n",
       "      <td>1.0</td>\n",
       "      <td>0.0</td>\n",
       "    </tr>\n",
       "    <tr>\n",
       "      <th>3</th>\n",
       "      <td>9.0</td>\n",
       "      <td>21.0</td>\n",
       "      <td>109</td>\n",
       "      <td>84</td>\n",
       "      <td>37</td>\n",
       "      <td>154</td>\n",
       "      <td>8</td>\n",
       "      <td>3</td>\n",
       "      <td>2016</td>\n",
       "      <td>12</td>\n",
       "      <td>14</td>\n",
       "      <td>0.0</td>\n",
       "      <td>1.0</td>\n",
       "      <td>0.0</td>\n",
       "      <td>0.0</td>\n",
       "      <td>0.0</td>\n",
       "    </tr>\n",
       "    <tr>\n",
       "      <th>4</th>\n",
       "      <td>0.0</td>\n",
       "      <td>0.0</td>\n",
       "      <td>3</td>\n",
       "      <td>3</td>\n",
       "      <td>0</td>\n",
       "      <td>4</td>\n",
       "      <td>9</td>\n",
       "      <td>5</td>\n",
       "      <td>2017</td>\n",
       "      <td>1</td>\n",
       "      <td>11</td>\n",
       "      <td>0.0</td>\n",
       "      <td>0.0</td>\n",
       "      <td>1.0</td>\n",
       "      <td>0.0</td>\n",
       "      <td>0.0</td>\n",
       "    </tr>\n",
       "  </tbody>\n",
       "</table>\n",
       "</div>"
      ],
      "text/plain": [
       "   correct  wrong  discovered  passed  started_attempt  viewed  user_id  \\\n",
       "0      4.0    4.0          15      15                4      20        3   \n",
       "1      2.0    2.0           1       1                0       1        5   \n",
       "2      0.0    0.0           1       1                0       1        7   \n",
       "3      9.0   21.0         109      84               37     154        8   \n",
       "4      0.0    0.0           3       3                0       4        9   \n",
       "\n",
       "   weekday  year  month  hour  year=2015  year=2016  year=2017  year=2018  \\\n",
       "0        0  2015      6     8        1.0        0.0        0.0        0.0   \n",
       "1        4  2016      6     9        0.0        1.0        0.0        0.0   \n",
       "2        2  2018      3    12        0.0        0.0        0.0        1.0   \n",
       "3        3  2016     12    14        0.0        1.0        0.0        0.0   \n",
       "4        5  2017      1    11        0.0        0.0        1.0        0.0   \n",
       "\n",
       "   year=2019  \n",
       "0        0.0  \n",
       "1        0.0  \n",
       "2        0.0  \n",
       "3        0.0  \n",
       "4        0.0  "
      ]
     },
     "execution_count": 19,
     "metadata": {},
     "output_type": "execute_result"
    }
   ],
   "source": [
    "for i in year:\n",
    "    X['year='+str(i)] = (X['year']==i).astype('float')\n",
    "    X_pred['year='+str(i)] = (X_pred['year']==i).astype('float')\n",
    "X.head()"
   ]
  },
  {
   "cell_type": "code",
   "execution_count": 23,
   "metadata": {},
   "outputs": [
    {
     "data": {
      "text/html": [
       "<div>\n",
       "<style scoped>\n",
       "    .dataframe tbody tr th:only-of-type {\n",
       "        vertical-align: middle;\n",
       "    }\n",
       "\n",
       "    .dataframe tbody tr th {\n",
       "        vertical-align: top;\n",
       "    }\n",
       "\n",
       "    .dataframe thead th {\n",
       "        text-align: right;\n",
       "    }\n",
       "</style>\n",
       "<table border=\"1\" class=\"dataframe\">\n",
       "  <thead>\n",
       "    <tr style=\"text-align: right;\">\n",
       "      <th></th>\n",
       "      <th>correct</th>\n",
       "      <th>wrong</th>\n",
       "      <th>discovered</th>\n",
       "      <th>passed</th>\n",
       "      <th>started_attempt</th>\n",
       "      <th>viewed</th>\n",
       "      <th>user_id</th>\n",
       "      <th>weekday</th>\n",
       "      <th>year</th>\n",
       "      <th>month</th>\n",
       "      <th>...</th>\n",
       "      <th>hour=14</th>\n",
       "      <th>hour=15</th>\n",
       "      <th>hour=16</th>\n",
       "      <th>hour=17</th>\n",
       "      <th>hour=18</th>\n",
       "      <th>hour=19</th>\n",
       "      <th>hour=20</th>\n",
       "      <th>hour=21</th>\n",
       "      <th>hour=22</th>\n",
       "      <th>hour=23</th>\n",
       "    </tr>\n",
       "  </thead>\n",
       "  <tbody>\n",
       "    <tr>\n",
       "      <th>0</th>\n",
       "      <td>4.0</td>\n",
       "      <td>4.0</td>\n",
       "      <td>15</td>\n",
       "      <td>15</td>\n",
       "      <td>4</td>\n",
       "      <td>20</td>\n",
       "      <td>3</td>\n",
       "      <td>0</td>\n",
       "      <td>2015</td>\n",
       "      <td>6</td>\n",
       "      <td>...</td>\n",
       "      <td>0.0</td>\n",
       "      <td>0.0</td>\n",
       "      <td>0.0</td>\n",
       "      <td>0.0</td>\n",
       "      <td>0.0</td>\n",
       "      <td>0.0</td>\n",
       "      <td>0.0</td>\n",
       "      <td>0.0</td>\n",
       "      <td>0.0</td>\n",
       "      <td>0.0</td>\n",
       "    </tr>\n",
       "    <tr>\n",
       "      <th>1</th>\n",
       "      <td>2.0</td>\n",
       "      <td>2.0</td>\n",
       "      <td>1</td>\n",
       "      <td>1</td>\n",
       "      <td>0</td>\n",
       "      <td>1</td>\n",
       "      <td>5</td>\n",
       "      <td>4</td>\n",
       "      <td>2016</td>\n",
       "      <td>6</td>\n",
       "      <td>...</td>\n",
       "      <td>0.0</td>\n",
       "      <td>0.0</td>\n",
       "      <td>0.0</td>\n",
       "      <td>0.0</td>\n",
       "      <td>0.0</td>\n",
       "      <td>0.0</td>\n",
       "      <td>0.0</td>\n",
       "      <td>0.0</td>\n",
       "      <td>0.0</td>\n",
       "      <td>0.0</td>\n",
       "    </tr>\n",
       "    <tr>\n",
       "      <th>2</th>\n",
       "      <td>0.0</td>\n",
       "      <td>0.0</td>\n",
       "      <td>1</td>\n",
       "      <td>1</td>\n",
       "      <td>0</td>\n",
       "      <td>1</td>\n",
       "      <td>7</td>\n",
       "      <td>2</td>\n",
       "      <td>2018</td>\n",
       "      <td>3</td>\n",
       "      <td>...</td>\n",
       "      <td>0.0</td>\n",
       "      <td>0.0</td>\n",
       "      <td>0.0</td>\n",
       "      <td>0.0</td>\n",
       "      <td>0.0</td>\n",
       "      <td>0.0</td>\n",
       "      <td>0.0</td>\n",
       "      <td>0.0</td>\n",
       "      <td>0.0</td>\n",
       "      <td>0.0</td>\n",
       "    </tr>\n",
       "    <tr>\n",
       "      <th>3</th>\n",
       "      <td>9.0</td>\n",
       "      <td>21.0</td>\n",
       "      <td>109</td>\n",
       "      <td>84</td>\n",
       "      <td>37</td>\n",
       "      <td>154</td>\n",
       "      <td>8</td>\n",
       "      <td>3</td>\n",
       "      <td>2016</td>\n",
       "      <td>12</td>\n",
       "      <td>...</td>\n",
       "      <td>1.0</td>\n",
       "      <td>0.0</td>\n",
       "      <td>0.0</td>\n",
       "      <td>0.0</td>\n",
       "      <td>0.0</td>\n",
       "      <td>0.0</td>\n",
       "      <td>0.0</td>\n",
       "      <td>0.0</td>\n",
       "      <td>0.0</td>\n",
       "      <td>0.0</td>\n",
       "    </tr>\n",
       "    <tr>\n",
       "      <th>4</th>\n",
       "      <td>0.0</td>\n",
       "      <td>0.0</td>\n",
       "      <td>3</td>\n",
       "      <td>3</td>\n",
       "      <td>0</td>\n",
       "      <td>4</td>\n",
       "      <td>9</td>\n",
       "      <td>5</td>\n",
       "      <td>2017</td>\n",
       "      <td>1</td>\n",
       "      <td>...</td>\n",
       "      <td>0.0</td>\n",
       "      <td>0.0</td>\n",
       "      <td>0.0</td>\n",
       "      <td>0.0</td>\n",
       "      <td>0.0</td>\n",
       "      <td>0.0</td>\n",
       "      <td>0.0</td>\n",
       "      <td>0.0</td>\n",
       "      <td>0.0</td>\n",
       "      <td>0.0</td>\n",
       "    </tr>\n",
       "  </tbody>\n",
       "</table>\n",
       "<p>5 rows × 59 columns</p>\n",
       "</div>"
      ],
      "text/plain": [
       "   correct  wrong  discovered  passed  started_attempt  viewed  user_id  \\\n",
       "0      4.0    4.0          15      15                4      20        3   \n",
       "1      2.0    2.0           1       1                0       1        5   \n",
       "2      0.0    0.0           1       1                0       1        7   \n",
       "3      9.0   21.0         109      84               37     154        8   \n",
       "4      0.0    0.0           3       3                0       4        9   \n",
       "\n",
       "   weekday  year  month   ...     hour=14  hour=15  hour=16  hour=17  hour=18  \\\n",
       "0        0  2015      6   ...         0.0      0.0      0.0      0.0      0.0   \n",
       "1        4  2016      6   ...         0.0      0.0      0.0      0.0      0.0   \n",
       "2        2  2018      3   ...         0.0      0.0      0.0      0.0      0.0   \n",
       "3        3  2016     12   ...         1.0      0.0      0.0      0.0      0.0   \n",
       "4        5  2017      1   ...         0.0      0.0      0.0      0.0      0.0   \n",
       "\n",
       "   hour=19  hour=20  hour=21  hour=22  hour=23  \n",
       "0      0.0      0.0      0.0      0.0      0.0  \n",
       "1      0.0      0.0      0.0      0.0      0.0  \n",
       "2      0.0      0.0      0.0      0.0      0.0  \n",
       "3      0.0      0.0      0.0      0.0      0.0  \n",
       "4      0.0      0.0      0.0      0.0      0.0  \n",
       "\n",
       "[5 rows x 59 columns]"
      ]
     },
     "execution_count": 23,
     "metadata": {},
     "output_type": "execute_result"
    }
   ],
   "source": [
    "for i in month:\n",
    "    X['month='+str(i)] = (X['month']==i).astype('float')\n",
    "    X_pred['month='+str(i)] = (X_pred['month']==i).astype('float')\n",
    "for i in weekday:\n",
    "    X['weekday='+str(i)] = (X['weekday']==i).astype('float')\n",
    "    X_pred['weekday='+str(i)] = (X_pred['weekday']==i).astype('float')\n",
    "for i in hour:\n",
    "    X['hour='+str(i)] = (X['hour']==i).astype('float')\n",
    "    X_pred['hour='+str(i)] = (X_pred['hour']==i).astype('float')\n",
    "X.head()"
   ]
  },
  {
   "cell_type": "code",
   "execution_count": 31,
   "metadata": {},
   "outputs": [],
   "source": [
    "X = X.set_index('user_id')\n",
    "X_pred = X_pred.set_index('user_id')\n",
    "X_train, X_test, y_train, y_test = train_test_split(X, y, test_size=0.25, random_state=42)"
   ]
  },
  {
   "cell_type": "code",
   "execution_count": 32,
   "metadata": {},
   "outputs": [
    {
     "data": {
      "text/plain": [
       "RandomForestClassifier(bootstrap=True, class_weight='balanced',\n",
       "            criterion='gini', max_depth=None, max_features='auto',\n",
       "            max_leaf_nodes=None, min_impurity_decrease=0.0,\n",
       "            min_impurity_split=None, min_samples_leaf=10,\n",
       "            min_samples_split=10, min_weight_fraction_leaf=0.0,\n",
       "            n_estimators=100, n_jobs=2, oob_score=False, random_state=None,\n",
       "            verbose=0, warm_start=False)"
      ]
     },
     "execution_count": 32,
     "metadata": {},
     "output_type": "execute_result"
    },
    {
     "name": "stdout",
     "output_type": "stream",
     "text": [
      "roc на test 0.9202084723781737\n"
     ]
    }
   ],
   "source": [
    "rf = RandomForestClassifier(n_estimators=100, n_jobs=2, \n",
    "                            min_samples_leaf=10, min_samples_split=10, \n",
    "                            class_weight='balanced')\n",
    "rf.fit(X_train, y_train)\n",
    "pred_proba = rf.predict_proba(X_test)\n",
    "roc_score = roc_auc_score(y_test, pred_proba[:, 1])\n",
    "print('roc на test', roc_score)\n",
    "# должны получить roc 0.92  +- 0.02"
   ]
  },
  {
   "cell_type": "code",
   "execution_count": 33,
   "metadata": {},
   "outputs": [
    {
     "data": {
      "text/html": [
       "<div>\n",
       "<style scoped>\n",
       "    .dataframe tbody tr th:only-of-type {\n",
       "        vertical-align: middle;\n",
       "    }\n",
       "\n",
       "    .dataframe tbody tr th {\n",
       "        vertical-align: top;\n",
       "    }\n",
       "\n",
       "    .dataframe thead th {\n",
       "        text-align: right;\n",
       "    }\n",
       "</style>\n",
       "<table border=\"1\" class=\"dataframe\">\n",
       "  <thead>\n",
       "    <tr style=\"text-align: right;\">\n",
       "      <th></th>\n",
       "      <th>weight</th>\n",
       "    </tr>\n",
       "  </thead>\n",
       "  <tbody>\n",
       "    <tr>\n",
       "      <th>correct</th>\n",
       "      <td>0.297533</td>\n",
       "    </tr>\n",
       "    <tr>\n",
       "      <th>discovered</th>\n",
       "      <td>0.167586</td>\n",
       "    </tr>\n",
       "    <tr>\n",
       "      <th>passed</th>\n",
       "      <td>0.151968</td>\n",
       "    </tr>\n",
       "    <tr>\n",
       "      <th>wrong</th>\n",
       "      <td>0.125140</td>\n",
       "    </tr>\n",
       "    <tr>\n",
       "      <th>started_attempt</th>\n",
       "      <td>0.090019</td>\n",
       "    </tr>\n",
       "    <tr>\n",
       "      <th>viewed</th>\n",
       "      <td>0.078516</td>\n",
       "    </tr>\n",
       "    <tr>\n",
       "      <th>hour</th>\n",
       "      <td>0.012533</td>\n",
       "    </tr>\n",
       "    <tr>\n",
       "      <th>month</th>\n",
       "      <td>0.012355</td>\n",
       "    </tr>\n",
       "    <tr>\n",
       "      <th>month=6</th>\n",
       "      <td>0.008242</td>\n",
       "    </tr>\n",
       "    <tr>\n",
       "      <th>weekday</th>\n",
       "      <td>0.007087</td>\n",
       "    </tr>\n",
       "    <tr>\n",
       "      <th>year</th>\n",
       "      <td>0.006290</td>\n",
       "    </tr>\n",
       "    <tr>\n",
       "      <th>year=2015</th>\n",
       "      <td>0.002633</td>\n",
       "    </tr>\n",
       "    <tr>\n",
       "      <th>year=2017</th>\n",
       "      <td>0.002525</td>\n",
       "    </tr>\n",
       "    <tr>\n",
       "      <th>year=2016</th>\n",
       "      <td>0.002262</td>\n",
       "    </tr>\n",
       "    <tr>\n",
       "      <th>year=2018</th>\n",
       "      <td>0.002142</td>\n",
       "    </tr>\n",
       "  </tbody>\n",
       "</table>\n",
       "</div>"
      ],
      "text/plain": [
       "                   weight\n",
       "correct          0.297533\n",
       "discovered       0.167586\n",
       "passed           0.151968\n",
       "wrong            0.125140\n",
       "started_attempt  0.090019\n",
       "viewed           0.078516\n",
       "hour             0.012533\n",
       "month            0.012355\n",
       "month=6          0.008242\n",
       "weekday          0.007087\n",
       "year             0.006290\n",
       "year=2015        0.002633\n",
       "year=2017        0.002525\n",
       "year=2016        0.002262\n",
       "year=2018        0.002142"
      ]
     },
     "execution_count": 33,
     "metadata": {},
     "output_type": "execute_result"
    }
   ],
   "source": [
    "# важность фич\n",
    "fimp = mu.get_feature_importances_df(rf.feature_importances_, X_train.columns)\n",
    "fimp.head(15)\n"
   ]
  },
  {
   "cell_type": "code",
   "execution_count": 34,
   "metadata": {},
   "outputs": [
    {
     "name": "stdout",
     "output_type": "stream",
     "text": [
      "mean score 0.9267657501377305\n"
     ]
    }
   ],
   "source": [
    "# значение к метрике на кроссвалидации коррелирует к метрике на степике\n",
    "rfcv = RandomForestClassifier(**rf.get_params())\n",
    "cv_scores = cross_val_score(rfcv, X_train, y_train, scoring='roc_auc', cv=10, n_jobs=-1)\n",
    "mean_cv_scores = np.mean(cv_scores)\n",
    "print ('mean score', mean_cv_scores)"
   ]
  },
  {
   "cell_type": "code",
   "execution_count": 36,
   "metadata": {},
   "outputs": [
    {
     "name": "stdout",
     "output_type": "stream",
     "text": [
      "Прогноз сохранен в файл  predict_2019-05-22_submit_9.csv\n",
      "Распределение \"вероятностей\" модели\n"
     ]
    },
    {
     "data": {
      "text/plain": [
       "(-0.000228, 0.1]    3221\n",
       "(0.1, 0.2]           223\n",
       "(0.2, 0.3]           369\n",
       "(0.3, 0.399]         572\n",
       "(0.399, 0.499]       348\n",
       "(0.499, 0.599]       234\n",
       "(0.599, 0.698]       292\n",
       "(0.698, 0.798]       334\n",
       "(0.798, 0.897]       130\n",
       "(0.897, 0.997]       461\n",
       "dtype: int64"
      ]
     },
     "execution_count": 36,
     "metadata": {},
     "output_type": "execute_result"
    }
   ],
   "source": [
    "SUBMIT_NUM = 9\n",
    "pred_proba = rf.predict_proba(X_pred)[:, 1]\n",
    "rep_df = rep.create_report(X_pred.index, pred_proba)\n",
    "assert rep_df.user_id.nunique() == X_pred.index.nunique()\n",
    "print ('Прогноз сохранен в файл ', rep.save_report(rep_df, SUBMIT_NUM))\n",
    "\n",
    "print ('Распределение \"вероятностей\" модели')\n",
    "pd.cut(pred_proba, 10).value_counts()"
   ]
  },
  {
   "cell_type": "code",
   "execution_count": 37,
   "metadata": {},
   "outputs": [
    {
     "name": "stdout",
     "output_type": "stream",
     "text": [
      "Fitting 5 folds for each of 216 candidates, totalling 1080 fits\n"
     ]
    },
    {
     "name": "stderr",
     "output_type": "stream",
     "text": [
      "[Parallel(n_jobs=-1)]: Using backend LokyBackend with 4 concurrent workers.\n",
      "[Parallel(n_jobs=-1)]: Done  42 tasks      | elapsed:   31.4s\n",
      "[Parallel(n_jobs=-1)]: Done 192 tasks      | elapsed:  1.3min\n",
      "[Parallel(n_jobs=-1)]: Done 442 tasks      | elapsed:  2.7min\n",
      "[Parallel(n_jobs=-1)]: Done 792 tasks      | elapsed:  5.0min\n",
      "[Parallel(n_jobs=-1)]: Done 1080 out of 1080 | elapsed:  7.2min finished\n"
     ]
    },
    {
     "data": {
      "text/plain": [
       "GridSearchCV(cv=5, error_score='raise-deprecating',\n",
       "       estimator=RandomForestClassifier(bootstrap=True, class_weight=None, criterion='gini',\n",
       "            max_depth=None, max_features='auto', max_leaf_nodes=None,\n",
       "            min_impurity_decrease=0.0, min_impurity_split=None,\n",
       "            min_samples_leaf=1, min_samples_split=2,\n",
       "            min_weight_fraction_leaf=0.0, n_estimators='warn', n_jobs=None,\n",
       "            oob_score=False, random_state=0, verbose=0, warm_start=False),\n",
       "       fit_params=None, iid='warn', n_jobs=-1,\n",
       "       param_grid={'criterion': ['gini', 'entropy'], 'max_features': [9, 10], 'n_estimators': [15, 20, 50], 'max_depth': [4, 5, 6], 'min_samples_leaf': [1, 2, 3], 'min_samples_split': [15, 20]},\n",
       "       pre_dispatch='2*n_jobs', refit=True, return_train_score='warn',\n",
       "       scoring='roc_auc', verbose=1)"
      ]
     },
     "execution_count": 37,
     "metadata": {},
     "output_type": "execute_result"
    }
   ],
   "source": [
    "rf = RandomForestClassifier(random_state=0)\n",
    "parametrs_rf = {'criterion': ['gini', 'entropy'],\n",
    "            'max_features' : [9, 10],\n",
    "            'n_estimators': [15, 20, 50],\n",
    "            'max_depth': [4, 5, 6],\n",
    "            'min_samples_leaf': [1, 2, 3],\n",
    "            'min_samples_split': [15, 20]}\n",
    "grid_search_cv_clf = GridSearchCV(estimator=rf, param_grid=parametrs_rf, cv=5, n_jobs=-1, verbose=1, scoring='roc_auc')\n",
    "grid_search_cv_clf.fit(X_train, y_train)"
   ]
  },
  {
   "cell_type": "code",
   "execution_count": 38,
   "metadata": {},
   "outputs": [
    {
     "data": {
      "text/plain": [
       "RandomForestClassifier(bootstrap=True, class_weight=None, criterion='gini',\n",
       "            max_depth=6, max_features=10, max_leaf_nodes=None,\n",
       "            min_impurity_decrease=0.0, min_impurity_split=None,\n",
       "            min_samples_leaf=3, min_samples_split=15,\n",
       "            min_weight_fraction_leaf=0.0, n_estimators=50, n_jobs=None,\n",
       "            oob_score=False, random_state=0, verbose=0, warm_start=False)"
      ]
     },
     "execution_count": 38,
     "metadata": {},
     "output_type": "execute_result"
    }
   ],
   "source": [
    "best_rf = grid_search_cv_clf.best_estimator_\n",
    "best_rf"
   ]
  },
  {
   "cell_type": "code",
   "execution_count": 39,
   "metadata": {},
   "outputs": [
    {
     "name": "stdout",
     "output_type": "stream",
     "text": [
      "roc на test 0.9174993543382453\n"
     ]
    }
   ],
   "source": [
    "pred_proba = best_rf.predict_proba(X_test)\n",
    "roc_score = roc_auc_score(y_test, pred_proba[:, 1])\n",
    "print('roc на test', roc_score)"
   ]
  },
  {
   "cell_type": "code",
   "execution_count": 58,
   "metadata": {},
   "outputs": [
    {
     "name": "stdout",
     "output_type": "stream",
     "text": [
      "mean score 0.9266923491547825\n"
     ]
    }
   ],
   "source": [
    "# значение к метрике на кроссвалидации коррелирует к метрике на степике\n",
    "\n",
    "rfcv = RandomForestClassifier(**best_rf.get_params())\n",
    "cv_scores = cross_val_score(rfcv, X_train, y_train, scoring='roc_auc', cv=10, n_jobs=-1)\n",
    "mean_cv_scores = np.mean(cv_scores)\n",
    "print ('mean score', mean_cv_scores)"
   ]
  },
  {
   "cell_type": "code",
   "execution_count": 59,
   "metadata": {},
   "outputs": [
    {
     "name": "stdout",
     "output_type": "stream",
     "text": [
      "Прогноз сохранен в файл  predict_2019-05-22_submit_7.csv\n",
      "Распределение \"вероятностей\" модели\n"
     ]
    },
    {
     "data": {
      "text/plain": [
       "(-0.000881, 0.1]    3419\n",
       "(0.1, 0.2]           478\n",
       "(0.2, 0.3]           878\n",
       "(0.3, 0.4]           126\n",
       "(0.4, 0.5]           280\n",
       "(0.5, 0.6]           303\n",
       "(0.6, 0.7]            69\n",
       "(0.7, 0.8]            34\n",
       "(0.8, 0.9]           149\n",
       "(0.9, 1.0]           448\n",
       "dtype: int64"
      ]
     },
     "execution_count": 59,
     "metadata": {},
     "output_type": "execute_result"
    }
   ],
   "source": [
    "SUBMIT_NUM = 10\n",
    "\n",
    "pred_proba = best_rf.predict_proba(X_pred)[:, 1]\n",
    "rep_df = rep.create_report(X_pred.index, pred_proba)\n",
    "assert rep_df.user_id.nunique() == X_pred.index.nunique()\n",
    "print ('Прогноз сохранен в файл ', rep.save_report(rep_df, SUBMIT_NUM))\n",
    "\n",
    "print ('Распределение \"вероятностей\" модели')\n",
    "pd.cut(pred_proba, 10).value_counts()"
   ]
  },
  {
   "cell_type": "code",
   "execution_count": 61,
   "metadata": {},
   "outputs": [
    {
     "name": "stderr",
     "output_type": "stream",
     "text": [
      "D:\\anaconda3\\lib\\site-packages\\sklearn\\preprocessing\\data.py:625: DataConversionWarning: Data with input dtype int64, float64 were all converted to float64 by StandardScaler.\n",
      "  return self.partial_fit(X, y)\n",
      "D:\\anaconda3\\lib\\site-packages\\sklearn\\base.py:462: DataConversionWarning: Data with input dtype int64, float64 were all converted to float64 by StandardScaler.\n",
      "  return self.fit(X, **fit_params).transform(X)\n",
      "D:\\anaconda3\\lib\\site-packages\\sklearn\\preprocessing\\data.py:625: DataConversionWarning: Data with input dtype int64, float64 were all converted to float64 by StandardScaler.\n",
      "  return self.partial_fit(X, y)\n",
      "D:\\anaconda3\\lib\\site-packages\\sklearn\\base.py:462: DataConversionWarning: Data with input dtype int64, float64 were all converted to float64 by StandardScaler.\n",
      "  return self.fit(X, **fit_params).transform(X)\n",
      "D:\\anaconda3\\lib\\site-packages\\sklearn\\preprocessing\\data.py:625: DataConversionWarning: Data with input dtype int64, float64 were all converted to float64 by StandardScaler.\n",
      "  return self.partial_fit(X, y)\n",
      "D:\\anaconda3\\lib\\site-packages\\sklearn\\base.py:462: DataConversionWarning: Data with input dtype int64, float64 were all converted to float64 by StandardScaler.\n",
      "  return self.fit(X, **fit_params).transform(X)\n"
     ]
    }
   ],
   "source": [
    "X_train_scaled = StandardScaler().fit_transform(X_train)\n",
    "X_test_scaled = StandardScaler().fit_transform(X_test)\n",
    "X_pred_scaled = StandardScaler().fit_transform(X_pred)"
   ]
  },
  {
   "cell_type": "code",
   "execution_count": 68,
   "metadata": {},
   "outputs": [],
   "source": [
    "xgb_model = xgboost.XGBClassifier()\n",
    "test_params = {\n",
    "  \"n_estimators\" : [90, 100, 110],\n",
    " \"learning_rate\"    : [0.02, 0.04, 0.05],\n",
    " \"max_depth\"        : [3, 4, 5],\n",
    " \"min_child_weight\" : [ 1, 2, 4]\n",
    "}\n",
    "model = GridSearchCV(estimator = xgb_model,param_grid = test_params, n_jobs=-1, verbose=10, cv=5)"
   ]
  },
  {
   "cell_type": "code",
   "execution_count": 69,
   "metadata": {},
   "outputs": [
    {
     "name": "stdout",
     "output_type": "stream",
     "text": [
      "Fitting 5 folds for each of 81 candidates, totalling 405 fits\n"
     ]
    },
    {
     "name": "stderr",
     "output_type": "stream",
     "text": [
      "[Parallel(n_jobs=-1)]: Using backend LokyBackend with 4 concurrent workers.\n",
      "[Parallel(n_jobs=-1)]: Done   5 tasks      | elapsed:    2.4s\n",
      "[Parallel(n_jobs=-1)]: Done  10 tasks      | elapsed:    3.8s\n",
      "[Parallel(n_jobs=-1)]: Done  17 tasks      | elapsed:    6.4s\n",
      "[Parallel(n_jobs=-1)]: Done  24 tasks      | elapsed:    7.9s\n",
      "[Parallel(n_jobs=-1)]: Done  33 tasks      | elapsed:   11.5s\n",
      "[Parallel(n_jobs=-1)]: Done  42 tasks      | elapsed:   14.3s\n",
      "[Parallel(n_jobs=-1)]: Done  53 tasks      | elapsed:   18.9s\n",
      "[Parallel(n_jobs=-1)]: Done  64 tasks      | elapsed:   23.8s\n",
      "[Parallel(n_jobs=-1)]: Done  77 tasks      | elapsed:   29.3s\n",
      "[Parallel(n_jobs=-1)]: Done  90 tasks      | elapsed:   34.7s\n",
      "[Parallel(n_jobs=-1)]: Done 105 tasks      | elapsed:   42.1s\n",
      "[Parallel(n_jobs=-1)]: Done 120 tasks      | elapsed:   49.1s\n",
      "[Parallel(n_jobs=-1)]: Done 137 tasks      | elapsed:   56.5s\n",
      "[Parallel(n_jobs=-1)]: Done 154 tasks      | elapsed:  1.1min\n",
      "[Parallel(n_jobs=-1)]: Done 173 tasks      | elapsed:  1.2min\n",
      "[Parallel(n_jobs=-1)]: Done 192 tasks      | elapsed:  1.3min\n",
      "[Parallel(n_jobs=-1)]: Done 213 tasks      | elapsed:  1.4min\n",
      "[Parallel(n_jobs=-1)]: Done 234 tasks      | elapsed:  1.6min\n",
      "[Parallel(n_jobs=-1)]: Done 257 tasks      | elapsed:  1.8min\n",
      "[Parallel(n_jobs=-1)]: Done 280 tasks      | elapsed:  1.9min\n",
      "[Parallel(n_jobs=-1)]: Done 305 tasks      | elapsed:  2.1min\n",
      "[Parallel(n_jobs=-1)]: Done 330 tasks      | elapsed:  2.2min\n",
      "[Parallel(n_jobs=-1)]: Done 357 tasks      | elapsed:  2.4min\n",
      "[Parallel(n_jobs=-1)]: Done 384 tasks      | elapsed:  2.6min\n",
      "[Parallel(n_jobs=-1)]: Done 405 out of 405 | elapsed:  2.8min finished\n"
     ]
    },
    {
     "data": {
      "text/plain": [
       "GridSearchCV(cv=5, error_score='raise-deprecating',\n",
       "       estimator=XGBClassifier(base_score=0.5, booster='gbtree', colsample_bylevel=1,\n",
       "       colsample_bytree=1, gamma=0, learning_rate=0.1, max_delta_step=0,\n",
       "       max_depth=3, min_child_weight=1, missing=None, n_estimators=100,\n",
       "       n_jobs=1, nthread=None, objective='binary:logistic', random_state=0,\n",
       "       reg_alpha=0, reg_lambda=1, scale_pos_weight=1, seed=None,\n",
       "       silent=True, subsample=1),\n",
       "       fit_params=None, iid='warn', n_jobs=-1,\n",
       "       param_grid={'n_estimators': [90, 100, 110], 'learning_rate': [0.02, 0.04, 0.05], 'max_depth': [3, 4, 5], 'min_child_weight': [1, 2, 4]},\n",
       "       pre_dispatch='2*n_jobs', refit=True, return_train_score='warn',\n",
       "       scoring=None, verbose=10)"
      ]
     },
     "execution_count": 69,
     "metadata": {},
     "output_type": "execute_result"
    },
    {
     "name": "stdout",
     "output_type": "stream",
     "text": [
      "{'learning_rate': 0.05, 'max_depth': 5, 'min_child_weight': 4, 'n_estimators': 100}\n"
     ]
    }
   ],
   "source": [
    "model.fit(X_train,y_train)\n",
    "print (model.best_params_)"
   ]
  },
  {
   "cell_type": "code",
   "execution_count": 71,
   "metadata": {},
   "outputs": [
    {
     "name": "stdout",
     "output_type": "stream",
     "text": [
      "roc на test 0.9320736692623023\n"
     ]
    }
   ],
   "source": [
    "best_xgb = model.best_estimator_\n",
    "pred_proba = best_xgb.predict_proba(X_test)\n",
    "roc_score = roc_auc_score(y_test, pred_proba[:, 1])\n",
    "print('roc на test', roc_score)"
   ]
  },
  {
   "cell_type": "code",
   "execution_count": 72,
   "metadata": {},
   "outputs": [
    {
     "data": {
      "text/plain": [
       "XGBClassifier(base_score=0.5, booster='gbtree', colsample_bylevel=1,\n",
       "       colsample_bytree=1, gamma=0, learning_rate=0.05, max_delta_step=0,\n",
       "       max_depth=5, min_child_weight=4, missing=None, n_estimators=100,\n",
       "       n_jobs=1, nthread=None, objective='binary:logistic', random_state=0,\n",
       "       reg_alpha=0, reg_lambda=1, scale_pos_weight=1, seed=None,\n",
       "       silent=True, subsample=1)"
      ]
     },
     "execution_count": 72,
     "metadata": {},
     "output_type": "execute_result"
    }
   ],
   "source": [
    "best_xgb"
   ]
  },
  {
   "cell_type": "code",
   "execution_count": 73,
   "metadata": {},
   "outputs": [
    {
     "name": "stdout",
     "output_type": "stream",
     "text": [
      "Прогноз сохранен в файл  predict_2019-05-22_submit_8.csv\n",
      "Распределение \"вероятностей\" модели\n"
     ]
    },
    {
     "data": {
      "text/plain": [
       "(0.00345, 0.104]    3690\n",
       "(0.104, 0.203]      1048\n",
       "(0.203, 0.302]       295\n",
       "(0.302, 0.401]       244\n",
       "(0.401, 0.5]         189\n",
       "(0.5, 0.599]          77\n",
       "(0.599, 0.698]        29\n",
       "(0.698, 0.797]        93\n",
       "(0.797, 0.897]        81\n",
       "(0.897, 0.996]       438\n",
       "dtype: int64"
      ]
     },
     "execution_count": 73,
     "metadata": {},
     "output_type": "execute_result"
    }
   ],
   "source": [
    "SUBMIT_NUM = 8\n",
    "\n",
    "pred_proba = best_xgb.predict_proba(X_pred)[:, 1]\n",
    "rep_df = rep.create_report(X_pred.index, pred_proba)\n",
    "assert rep_df.user_id.nunique() == X_pred.index.nunique()\n",
    "print ('Прогноз сохранен в файл ', rep.save_report(rep_df, SUBMIT_NUM))\n",
    "\n",
    "print ('Распределение \"вероятностей\" модели')\n",
    "pd.cut(pred_proba, 10).value_counts()"
   ]
  },
  {
   "cell_type": "code",
   "execution_count": 82,
   "metadata": {},
   "outputs": [
    {
     "data": {
      "text/plain": [
       "user_id\n",
       "1        2016\n",
       "2        2017\n",
       "5        2016\n",
       "7        2018\n",
       "9        2017\n",
       "14       2015\n",
       "18       2015\n",
       "20       2015\n",
       "22       2017\n",
       "26       2016\n",
       "28       2015\n",
       "30       2016\n",
       "31       2017\n",
       "32       2017\n",
       "33       2015\n",
       "36       2018\n",
       "38       2015\n",
       "44       2017\n",
       "46       2015\n",
       "50       2015\n",
       "52       2015\n",
       "53       2018\n",
       "54       2017\n",
       "57       2018\n",
       "59       2016\n",
       "60       2017\n",
       "64       2017\n",
       "65       2015\n",
       "67       2017\n",
       "68       2015\n",
       "         ... \n",
       "26696    2018\n",
       "26698    2018\n",
       "26699    2018\n",
       "26701    2018\n",
       "26706    2018\n",
       "26710    2018\n",
       "26713    2018\n",
       "26720    2018\n",
       "26721    2018\n",
       "26724    2018\n",
       "26729    2018\n",
       "26730    2018\n",
       "26735    2018\n",
       "26736    2018\n",
       "26738    2018\n",
       "26743    2018\n",
       "26744    2018\n",
       "26745    2018\n",
       "26748    2018\n",
       "26758    2018\n",
       "26768    2018\n",
       "26770    2018\n",
       "26775    2018\n",
       "26780    2018\n",
       "26785    2019\n",
       "26791    2018\n",
       "26795    2018\n",
       "26796    2018\n",
       "26799    2018\n",
       "26800    2018\n",
       "Name: year, Length: 25418, dtype: int64"
      ]
     },
     "execution_count": 82,
     "metadata": {},
     "output_type": "execute_result"
    }
   ],
   "source": []
  },
  {
   "cell_type": "code",
   "execution_count": 81,
   "metadata": {},
   "outputs": [
    {
     "data": {
      "text/plain": [
       "Index(['correct', 'wrong', 'discovered', 'passed', 'started_attempt', 'viewed',\n",
       "       'weekday', 'year', 'month', 'hour', 'year0', 'year1', 'year2', 'year3',\n",
       "       'month0', 'month1', 'month2', 'month3', 'month4', 'month5', 'month6',\n",
       "       'month7', 'month8', 'month9', 'month10', 'month11', 'hour0', 'hour1',\n",
       "       'hour2', 'hour3', 'hour4', 'hour5', 'hour6', 'hour7', 'hour8', 'hour9',\n",
       "       'hour10', 'hour11', 'hour12', 'hour13', 'hour14', 'hour15', 'hour16',\n",
       "       'hour17', 'hour18', 'hour19', 'hour20', 'hour21', 'hour22', 'hour23',\n",
       "       'weekday0', 'weekday1', 'weekday2', 'weekday3', 'weekday4', 'weekday5',\n",
       "       'weekday6', 'correct', 'passed', 'discovered', 'wrong', 'viewed',\n",
       "       'started_attempt', 'hour', 'month', 'weekday', 'year'],\n",
       "      dtype='object')"
      ]
     },
     "execution_count": 81,
     "metadata": {},
     "output_type": "execute_result"
    }
   ],
   "source": []
  },
  {
   "cell_type": "code",
   "execution_count": null,
   "metadata": {},
   "outputs": [],
   "source": []
  }
 ],
 "metadata": {
  "kernelspec": {
   "display_name": "Python 3",
   "language": "python",
   "name": "python3"
  },
  "language_info": {
   "codemirror_mode": {
    "name": "ipython",
    "version": 3
   },
   "file_extension": ".py",
   "mimetype": "text/x-python",
   "name": "python",
   "nbconvert_exporter": "python",
   "pygments_lexer": "ipython3",
   "version": "3.7.1"
  }
 },
 "nbformat": 4,
 "nbformat_minor": 2
}
