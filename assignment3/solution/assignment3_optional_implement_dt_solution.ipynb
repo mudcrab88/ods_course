{
 "cells": [
  {
   "cell_type": "markdown",
   "metadata": {},
   "source": [
    "<center>\n",
    "<img src=\"../../img/ods_stickers.jpg\" />\n",
    "    \n",
    "## [mlcourse.ai](mlcourse.ai) – Open Machine Learning Course \n",
    "Author: [Yury Kashnitskiy](https://yorko.github.io) (@yorko). Edited by Anna Tarelina (@feuerengel). This material is subject to the terms and conditions of the [Creative Commons CC BY-NC-SA 4.0](https://creativecommons.org/licenses/by-nc-sa/4.0/) license. Free use is permitted for any non-commercial purpose."
   ]
  },
  {
   "cell_type": "markdown",
   "metadata": {},
   "source": [
    "# <center>Assignment #3. Optional part. Solution\n",
    "## <center> Implementation of the decision tree algorithm"
   ]
  },
  {
   "cell_type": "code",
   "execution_count": 1,
   "metadata": {},
   "outputs": [],
   "source": [
    "import numpy as np\n",
    "from matplotlib import pyplot as plt\n",
    "from sklearn.base import BaseEstimator\n",
    "from sklearn.datasets import make_classification, make_regression, load_digits, load_boston\n",
    "from sklearn.model_selection import train_test_split, GridSearchCV\n",
    "from sklearn.metrics import accuracy_score, mean_squared_error"
   ]
  },
  {
   "cell_type": "markdown",
   "metadata": {},
   "source": [
    "Let's fix `random_state` (a.k.a. random seed) beforehand."
   ]
  },
  {
   "cell_type": "code",
   "execution_count": 2,
   "metadata": {},
   "outputs": [],
   "source": [
    "RANDOM_STATE = 17"
   ]
  },
  {
   "cell_type": "markdown",
   "metadata": {
    "collapsed": true
   },
   "source": [
    "**Implement the class `DecisionTree`**\n",
    "**Specification:**\n",
    "- the class is inherited from `sklearn.BaseEstimator`;\n",
    "- class constructor has the following parameters: \n",
    "    `max_depth` - maximum depth of the tree (`numpy.inf` by default); \n",
    "    `min_samples_split` - the minimum number of instances in a node for a splitting to be done (2 by default); \n",
    "    `criterion` - split criterion ('gini' or 'entropy' for classification, 'variance' or 'mad_median' for regression; 'gini' by default);\n",
    "    \n",
    "    A functional to be maximized to find an optimal partition at a given node has the form\n",
    "    $$Q(X, j, t) = F(X) - \\dfrac{|X_l|}{|X|} F(X_l) - \\dfrac{|X_r|}{|X|} F(X_r),$$\n",
    "    where $X$ are samples at a given node, $X_l$ and $X_r$ are partitions of samples $X$ into two parts \n",
    "    with the following condition $[x_j < t]$, and $F(X)$ is a partition criterion.\n",
    "    \n",
    "    For classification: let $p_i$ be the fraction of the instances of the $i$-th class in the dataset $X$.\n",
    "    \n",
    "    'gini': Gini impurity $F(X) = 1 -\\sum_{i = 1}^K p_i^2$.\n",
    "    \n",
    "    'entropy': Entropy $F(X) = -\\sum_{i = 1}^K p_i \\log_2(p_i)$.\n",
    "    \n",
    "    For regression: $y_j = y(x_j)$ - is a target for an instance $x_j$, $y = (y_1, \\dots, y_{|X|})$ - is a target vector.\n",
    "    \n",
    "    'variance': Variance (mean quadratic deviation from average) $F(X) = \\dfrac{1}{|X|} \\sum_{x_j \\in X}(y_j - \\dfrac{1}{|X|}\\sum_{x_i \\in X}y_i)^2$\n",
    "    \n",
    "    'mad_median': Mean deviation from the median $F(X) = \\dfrac{1}{|X|} \\sum_{x_j \\in X}|y_j - \\mathrm{med}(y)|$\n",
    "    \n",
    "- the class has several methods: `fit`, `predict` and `predict_proba`;\n",
    "- the`fit` method takes the matrix of instances `X` and a target vector `y` (`numpy.ndarray` objects) and returns an instance of the class `DecisionTree` representing the decision tree trained on the dataset `(X, y)` according to parameters set in the constructor; \n",
    "- the `predict_proba` method takes the matrix of instances `X` and returns the matrix `P` of a size `X.shape[0] x K`, where `K` is the number of classes and $p_{ij}$ is the probability of an instance in $i$-th row of `X` to belong to class $j \\in \\{1, \\dots, K\\}$.\n",
    "- the `predict` method takes the matrix of instances `X` and returns a prediction vector; in case of classification, prediction for an instance $x_i$ falling into leaf $L$ will be the class, mostly represented among instances in $L$. In case of regression, it'll be the mean value of targets for all instances in leaf $L$."
   ]
  },
  {
   "cell_type": "code",
   "execution_count": 3,
   "metadata": {},
   "outputs": [],
   "source": [
    "# Let's define quality criterion: \n",
    "# entropy and Gini criteria are used for classification\n",
    "def entropy(y):    \n",
    "    p = [len(y[y == k]) / len(y) for k in np.unique(y)]\n",
    "    return -np.dot(p, np.log2(p))\n",
    "\n",
    "def gini(y):\n",
    "    p = [len(y[y == k]) / len(y) for k in np.unique(y)]\n",
    "    return 1 - np.dot(p, p)\n",
    "\n",
    "# variance and median criteria are used for regression\n",
    "def variance(y):\n",
    "    return np.var(y)\n",
    "\n",
    "def mad_median(y):\n",
    "    return np.mean(np.abs(y - np.median(y)))\n",
    "\n",
    "criteria_dict = {'entropy': entropy, 'gini': gini, \n",
    "                 'variance': variance, 'mad_median': mad_median}"
   ]
  },
  {
   "cell_type": "markdown",
   "metadata": {},
   "source": [
    "The `Node` class implements a node in the decision tree."
   ]
  },
  {
   "cell_type": "code",
   "execution_count": 4,
   "metadata": {},
   "outputs": [],
   "source": [
    "class Node():\n",
    "    \n",
    "    def __init__(self, feature_idx=0, threshold=0, labels=None, left=None, right=None):\n",
    "        self.feature_idx = feature_idx\n",
    "        self.threshold = threshold\n",
    "        self.labels = labels\n",
    "        self.left = left\n",
    "        self.right = right"
   ]
  },
  {
   "cell_type": "markdown",
   "metadata": {},
   "source": [
    "Let's determine the function for calculating a prediction in a leaf. For regression, let's take the mean for all values in a leaf, for classification - the most popular class in leaf."
   ]
  },
  {
   "cell_type": "code",
   "execution_count": 5,
   "metadata": {},
   "outputs": [],
   "source": [
    "def regression_leaf(y):\n",
    "    return np.mean(y)\n",
    "\n",
    "def classification_leaf(y):\n",
    "    return np.bincount(y).argmax()"
   ]
  },
  {
   "cell_type": "code",
   "execution_count": 6,
   "metadata": {},
   "outputs": [],
   "source": [
    "class DecisionTree(BaseEstimator):\n",
    "    \n",
    "    def __init__(self, max_depth=np.inf, min_samples_split=2, \n",
    "                 criterion='gini', debug=False):\n",
    "        # Initialize the object using set_params method\n",
    "        params = {'max_depth': max_depth,\n",
    "                  'min_samples_split': min_samples_split,\n",
    "                  'criterion': criterion,\n",
    "                  'debug': debug}\n",
    "        \n",
    "        self.set_params(**params)\n",
    "        \n",
    "        if self.debug:\n",
    "            print(\"\\nDecisionTree params:\")\n",
    "            print(\"max_depth = {}, min_samples_split = {}, criterion = {}\\n\"\\\n",
    "                  .format(max_depth, min_samples_split, criterion))\n",
    "            \n",
    "    def set_params(self, **params):\n",
    "        super().set_params(**params)\n",
    "        \n",
    "        self._criterion_function = criteria_dict[self.criterion]\n",
    "        \n",
    "        if self.criterion in ['variance', 'mad_median']:\n",
    "            self._leaf_value = regression_leaf\n",
    "        else:\n",
    "            self._leaf_value = classification_leaf\n",
    "        \n",
    "        return self\n",
    "            \n",
    "\n",
    "    # Functional for splitting the data by two parts\n",
    "    def _functional(self, X, y, feature_idx, threshold):\n",
    "        mask = X[:, feature_idx] < threshold\n",
    "        n_obj = X.shape[0]\n",
    "        n_left = np.sum(mask)\n",
    "        n_right = n_obj - n_left    \n",
    "        if n_left > 0 and n_right > 0:\n",
    "            return self._criterion_function(y) - (n_left / n_obj) * \\\n",
    "                    self._criterion_function(y[mask]) - (n_right / n_obj) * \\\n",
    "                    self._criterion_function(y[~mask])\n",
    "        else:\n",
    "            return 0\n",
    "        \n",
    "    # Recursive procedure for building decision tree\n",
    "    def _build_tree(self, X, y, depth=1):\n",
    "        max_functional = 0\n",
    "        best_feature_idx = None\n",
    "        best_threshold = None\n",
    "        n_samples, n_features = X.shape     \n",
    "        \n",
    "        \n",
    "        # If all objects in a current vertex have the same values in answers\n",
    "        # then the value of the functional will be 0 for all partitions.\n",
    "        # So in this case the vertex is a leaf. In order not to make unnecessary calculations, \n",
    "        # perform this check before the main cycle.\n",
    "        if len(np.unique(y)) == 1:\n",
    "            return Node(labels=y)\n",
    "\n",
    "        # If the stop criterion is not satisfied, search for the optimal partition\n",
    "        if depth < self.max_depth and n_samples >= self.min_samples_split:\n",
    "            if self.debug:\n",
    "                print(\"depth = {}, n_samples = {}\".format(depth, n_samples))\n",
    "\n",
    "            # Iterate for all features...\n",
    "            for feature_idx in range(n_features):\n",
    "                # and all thresholds for fixed feature\n",
    "                threshold_values = np.unique(X[:, feature_idx])    \n",
    "                functional_values = [self._functional(X, y, feature_idx, threshold) \n",
    "                                     for threshold in threshold_values]\n",
    "                \n",
    "                best_threshold_idx = np.nanargmax(functional_values)\n",
    "                    \n",
    "                if functional_values[best_threshold_idx] > max_functional:\n",
    "                    max_functional = functional_values[best_threshold_idx]\n",
    "                    best_threshold = threshold_values[best_threshold_idx]\n",
    "                    best_feature_idx = feature_idx\n",
    "                    best_mask = X[:, feature_idx] < best_threshold\n",
    "    \n",
    "        if best_feature_idx is not None:\n",
    "            if self.debug:\n",
    "                print(\"best feature = {}, best threshold = {}\"\\\n",
    "                      .format(best_feature_idx, best_threshold))\n",
    "            # In case of partition go next recursivelly...\n",
    "            return Node(feature_idx=best_feature_idx, threshold=best_threshold, \n",
    "                        left=self._build_tree(X[best_mask, :], y[best_mask], depth + 1),\n",
    "                        right=self._build_tree(X[~best_mask, :], y[~best_mask], depth + 1))\n",
    "        else:\n",
    "            # else the vertex is a leaf, leave recursion\n",
    "            return Node(labels=y)\n",
    "    \n",
    "    \n",
    "    def fit(self, X, y):\n",
    "        # In classification task memorize the number of classes\n",
    "        if self.criterion in ['gini', 'entropy']:\n",
    "            self._n_classes = len(np.unique(y))\n",
    "            \n",
    "        self.root = self._build_tree(X, y)\n",
    "        \n",
    "        return self\n",
    "\n",
    "    # Predict the answer for single object\n",
    "    def _predict_object(self, x, node=None):\n",
    "        \n",
    "        node = self.root\n",
    "        # Traverse from root to the leaf\n",
    "        while node.labels is None:\n",
    "            if x[node.feature_idx] < node.threshold:\n",
    "                node = node.left\n",
    "            else:\n",
    "                node = node.right\n",
    "        # Calculate the answer\n",
    "        return self._leaf_value(node.labels)\n",
    "\n",
    "        \n",
    "    def predict(self, X):\n",
    "        return np.array([self._predict_object(x) for x in X]) \n",
    "    \n",
    "    def _predict_proba_object(self, x, node=None):\n",
    "        \n",
    "        node = self.root\n",
    "        # Traverse from root to the leaf\n",
    "        while node.labels is None:\n",
    "            if x[node.feature_idx] < node.threshold:\n",
    "                node = node.left\n",
    "            else:\n",
    "                node = node.right\n",
    "        # Compute probabilities of classes\n",
    "        return [len(node.labels[node.labels == k]) / \\\n",
    "                len(node.labels) for k in range(self._n_classes)]\n",
    "        \n",
    "        \n",
    "    def predict_proba(self, X):\n",
    "        return np.array([self._predict_proba_object(x) for x in X])"
   ]
  },
  {
   "cell_type": "markdown",
   "metadata": {},
   "source": [
    "## Testing the implemented algorithm"
   ]
  },
  {
   "cell_type": "markdown",
   "metadata": {},
   "source": [
    "### Classification"
   ]
  },
  {
   "cell_type": "markdown",
   "metadata": {},
   "source": [
    "Let's test our class on synthetic data and make sure that `predict_proba` works correctly."
   ]
  },
  {
   "cell_type": "code",
   "execution_count": 7,
   "metadata": {},
   "outputs": [
    {
     "name": "stdout",
     "output_type": "stream",
     "text": [
      "Accuracy: 0.85\n",
      "predict_proba works!\n"
     ]
    },
    {
     "data": {
      "image/png": "[encoded data removed]",
      "text/plain": [
       "<Figure size 432x288 with 2 Axes>"
      ]
     },
     "metadata": {
      "needs_background": "light"
     },
     "output_type": "display_data"
    }
   ],
   "source": [
    "X, y = make_classification(n_features=2, n_redundant=0, n_samples=400,\n",
    "                          random_state=RANDOM_STATE)\n",
    "\n",
    "X_train, X_test, y_train, y_test = train_test_split(X, y, test_size=0.3,\n",
    "                                                   random_state=RANDOM_STATE)\n",
    "\n",
    "clf = DecisionTree(max_depth=4, criterion='gini')\n",
    "clf.fit(X_train, y_train)\n",
    "\n",
    "y_pred = clf.predict(X_test)\n",
    "prob_pred = clf.predict_proba(X_test)\n",
    "accuracy = accuracy_score(y_test, y_pred)\n",
    "\n",
    "print(\"Accuracy:\", accuracy)\n",
    "\n",
    "if (sum(np.argmax(prob_pred,axis=1) - y_pred) == 0):\n",
    "    print('predict_proba works!')\n",
    "\n",
    "plt.suptitle(\"Accuracy = {0:.2f}\".format(accuracy))\n",
    "plt.subplot(121)\n",
    "plt.scatter(X_test[:, 0], X_test[:, 1], c=y_pred, cmap=plt.cm.coolwarm)\n",
    "plt.title('Predicted class labels')\n",
    "plt.axis('equal')\n",
    "plt.subplot(122)\n",
    "plt.scatter(X_test[:, 0], X_test[:, 1], c=y_test, cmap=plt.cm.coolwarm)\n",
    "plt.title('True class labels')\n",
    "plt.axis('equal');"
   ]
  },
  {
   "cell_type": "markdown",
   "metadata": {},
   "source": [
    "Download the dataset `digits` using the method `load_digits`. Split the data into train and test with the `train_test_split` method, use parameter values `test_size=0.2`, and `random_state=17`. Try to train shallow decision trees and make sure that gini and entropy criteria return different results."
   ]
  },
  {
   "cell_type": "code",
   "execution_count": 8,
   "metadata": {},
   "outputs": [
    {
     "name": "stdout",
     "output_type": "stream",
     "text": [
      "\n",
      "DecisionTree params:\n",
      "max_depth = 2, min_samples_split = 2, criterion = gini\n",
      "\n",
      "depth = 1, n_samples = 1437\n",
      "best feature = 36, best threshold = 1.0\n",
      "0.18888888888888888\n",
      "\n",
      "DecisionTree params:\n",
      "max_depth = 2, min_samples_split = 2, criterion = entropy\n",
      "\n",
      "depth = 1, n_samples = 1437\n",
      "best feature = 21, best threshold = 2.0\n",
      "0.175\n"
     ]
    }
   ],
   "source": [
    "digits = load_digits()\n",
    "\n",
    "X = digits.data\n",
    "y = digits.target\n",
    "\n",
    "X_train, X_test, y_train, y_test = train_test_split(X, y, \n",
    "                            test_size=0.2, random_state=RANDOM_STATE)\n",
    "\n",
    "clf1 = DecisionTree(max_depth=2, criterion='gini', debug=True)\n",
    "clf1.fit(X_train, y_train)\n",
    "\n",
    "print(accuracy_score(clf1.predict(X_test), y_test))\n",
    "\n",
    "\n",
    "clf2 = DecisionTree(max_depth=2, criterion='entropy', debug=True)\n",
    "clf2.fit(X_train, y_train)\n",
    "\n",
    "print(accuracy_score(clf2.predict(X_test), y_test))"
   ]
  },
  {
   "cell_type": "markdown",
   "metadata": {},
   "source": [
    "Using 5-folds cross-validation (`GridSearchCV`) pick up the optimal values of the `max_depth` and `criterion` parameters. For the parameter `max_depth` use range(3, 11), for criterion use {'gini', 'entropy'}. Quality measure is `scoring`='accuracy'."
   ]
  },
  {
   "cell_type": "code",
   "execution_count": 9,
   "metadata": {},
   "outputs": [
    {
     "name": "stdout",
     "output_type": "stream",
     "text": [
      "Fitting 5 folds for each of 16 candidates, totalling 80 fits\n"
     ]
    },
    {
     "name": "stderr",
     "output_type": "stream",
     "text": [
      "[Parallel(n_jobs=8)]: Using backend LokyBackend with 8 concurrent workers.\n",
      "[Parallel(n_jobs=8)]: Done  34 tasks      | elapsed:   13.3s\n",
      "[Parallel(n_jobs=8)]: Done  80 out of  80 | elapsed:   31.4s finished\n"
     ]
    },
    {
     "name": "stdout",
     "output_type": "stream",
     "text": [
      "CPU times: user 4.03 s, sys: 137 ms, total: 4.16 s\n",
      "Wall time: 34.2 s\n"
     ]
    }
   ],
   "source": [
    "%%time\n",
    "tree_params = {'max_depth': list(range(3, 11)), \n",
    "               'criterion': ['gini', 'entropy']}\n",
    "\n",
    "clf = GridSearchCV(DecisionTree(), tree_params, cv=5, scoring='accuracy',\n",
    "                  verbose=True, n_jobs=8) \n",
    "\n",
    "clf.fit(X_train, y_train)"
   ]
  },
  {
   "cell_type": "code",
   "execution_count": 10,
   "metadata": {},
   "outputs": [
    {
     "data": {
      "text/plain": [
       "(0.8622129436325678, {'criterion': 'entropy', 'max_depth': 9})"
      ]
     },
     "execution_count": 10,
     "metadata": {},
     "output_type": "execute_result"
    }
   ],
   "source": [
    "clf.best_score_, clf.best_params_"
   ]
  },
  {
   "cell_type": "markdown",
   "metadata": {},
   "source": [
    "Draw the plot of the mean quality measure `accuracy` for criteria `gini` and `entropy` depending on `max_depth`."
   ]
  },
  {
   "cell_type": "code",
   "execution_count": 11,
   "metadata": {},
   "outputs": [
    {
     "data": {
      "image/png": "[encoded data removed]",
      "text/plain": [
       "<Figure size 432x288 with 1 Axes>"
      ]
     },
     "metadata": {
      "needs_background": "light"
     },
     "output_type": "display_data"
    }
   ],
   "source": [
    "scores = np.array(clf.cv_results_['mean_test_score'])\n",
    "scores = scores.reshape(len(tree_params['criterion']), \n",
    "                        len(tree_params['max_depth']))\n",
    "\n",
    "for ind, i in enumerate(tree_params['criterion']):\n",
    "    plt.plot(tree_params['max_depth'], scores[ind], label=str(i))\n",
    "plt.legend(loc='best')\n",
    "plt.xlabel('max_depth')\n",
    "plt.ylabel('Accuracy')\n",
    "plt.show();"
   ]
  },
  {
   "cell_type": "markdown",
   "metadata": {},
   "source": [
    "**1. Choose all correct statements:**\n",
    "1. Optimal value of the `max_depth` parameter is on the interval [4, 9] for both criteria.\n",
    "2. **<font color='green'>Created plots have no intersection on the interval [3, 10].</font>**\n",
    "3. Created plots intersect each other only once on the interval [3, 10].\n",
    "4. The best quality for `max_depth` on the interval [3, 10] is reached using `gini` criterion .\n",
    "5. **<font color='green'> Accuracy is strictly increasing at least for one of the criteria, when `max_depth` is also increasing on the interval [3, 10].</font>**"
   ]
  },
  {
   "cell_type": "markdown",
   "metadata": {},
   "source": [
    "**2. What are the optimal values for max_depth and criterion parameters?**\n",
    "1. max_depth = 7, criterion = 'gini';\n",
    "2. max_depth = 7, criterion = 'entropy';\n",
    "3. max_depth = 10, criterion = 'entropy';\n",
    "4. max_depth = 10, criterion = 'gini';\n",
    "5. **<font color='green'>max_depth = 9, criterion = 'entropy';</font>**\n",
    "6. max_depth = 9, criterion = 'gini';"
   ]
  },
  {
   "cell_type": "markdown",
   "metadata": {},
   "source": [
    "Train decision tree on `(X_train, y_train)` using the optimal values of `max_depth` and `criterion`. Compute class probabilities for `X_test`."
   ]
  },
  {
   "cell_type": "code",
   "execution_count": 12,
   "metadata": {},
   "outputs": [],
   "source": [
    "clf = DecisionTree(max_depth=9, criterion='entropy')\n",
    "clf.fit(X_train, y_train)\n",
    "probs = clf.predict_proba(X_test)"
   ]
  },
  {
   "cell_type": "markdown",
   "metadata": {},
   "source": [
    "Using the given matrix, compute the mean class probabilities for all instances in `X_test`."
   ]
  },
  {
   "cell_type": "code",
   "execution_count": 13,
   "metadata": {},
   "outputs": [
    {
     "name": "stdout",
     "output_type": "stream",
     "text": [
      "[0.09166667 0.07700282 0.09854938 0.08930086 0.12690476 0.11898148\n",
      " 0.08194444 0.09805556 0.10465062 0.11294341]\n"
     ]
    }
   ],
   "source": [
    "mean_probs = np.mean(probs, axis=0)\n",
    "print(mean_probs)"
   ]
  },
  {
   "cell_type": "markdown",
   "metadata": {},
   "source": [
    "**3. What is the maximum probability in a resulted vector?**\n",
    "1. **<font color='green'>0.127</font>**\n",
    "2. 0.118\n",
    "3. 1.0\n",
    "4. 0.09"
   ]
  },
  {
   "cell_type": "markdown",
   "metadata": {},
   "source": [
    "## Regression"
   ]
  },
  {
   "cell_type": "markdown",
   "metadata": {},
   "source": [
    "Let's do the same for regression."
   ]
  },
  {
   "cell_type": "code",
   "execution_count": 14,
   "metadata": {},
   "outputs": [
    {
     "name": "stdout",
     "output_type": "stream",
     "text": [
      "Mean Squared Error: 119.43877716171195\n"
     ]
    },
    {
     "data": {
      "image/png": "[encoded data removed]",
      "text/plain": [
       "<Figure size 432x288 with 1 Axes>"
      ]
     },
     "metadata": {
      "needs_background": "light"
     },
     "output_type": "display_data"
    }
   ],
   "source": [
    "X, y = make_regression(n_features=1, n_samples=200, bias=0, noise=5,\n",
    "                      random_state=RANDOM_STATE)\n",
    "\n",
    "X_train, X_test, y_train, y_test = train_test_split(X, y, test_size=0.3)\n",
    "\n",
    "reg = DecisionTree(max_depth=6, criterion='mad_median')\n",
    "reg.fit(X_train, y_train)\n",
    "y_pred = reg.predict(X_test)\n",
    "\n",
    "mse = mean_squared_error(y_test, y_pred)\n",
    "print(\"Mean Squared Error:\", mse)\n",
    "\n",
    "plt.scatter(X_test[:, 0], y_test, color='black')\n",
    "plt.scatter(X_test[:, 0], y_pred, color='green')\n",
    "plt.title(\"MSE = {0:.2f}\".format(mse));"
   ]
  },
  {
   "cell_type": "markdown",
   "metadata": {},
   "source": [
    "Download the dataset `boston` using the method `load_boston`. Split the data into train and test with the `train_test_split` method, use parameter values `test_size=0.2`, `random_state=17`. Try to train shallow regression decision trees and make sure that `variance` and `mad_median` criteria return different results."
   ]
  },
  {
   "cell_type": "code",
   "execution_count": 15,
   "metadata": {},
   "outputs": [
    {
     "name": "stdout",
     "output_type": "stream",
     "text": [
      "\n",
      "DecisionTree params:\n",
      "max_depth = 2, min_samples_split = 2, criterion = variance\n",
      "\n",
      "depth = 1, n_samples = 404\n",
      "best feature = 12, best threshold = 7.51\n",
      "54.63221936139991\n",
      "\n",
      "DecisionTree params:\n",
      "max_depth = 2, min_samples_split = 2, criterion = mad_median\n",
      "\n",
      "depth = 1, n_samples = 404\n",
      "best feature = 5, best threshold = 6.8\n",
      "40.82003832415897\n"
     ]
    }
   ],
   "source": [
    "boston = load_boston()\n",
    "\n",
    "X = boston.data\n",
    "y = boston.target\n",
    "\n",
    "X_train, X_test, y_train, y_test = train_test_split(X, y, \n",
    "                            test_size=0.2, random_state=RANDOM_STATE)\n",
    "\n",
    "clf1 = DecisionTree(max_depth=2, criterion='variance', debug=True)\n",
    "clf1.fit(X_train, y_train)\n",
    "\n",
    "print(mean_squared_error(clf1.predict(X_test), y_test))\n",
    "\n",
    "\n",
    "clf2 = DecisionTree(max_depth=2, criterion='mad_median', debug=True)\n",
    "clf2.fit(X_train, y_train)\n",
    "\n",
    "print(mean_squared_error(clf2.predict(X_test), y_test))"
   ]
  },
  {
   "cell_type": "markdown",
   "metadata": {},
   "source": [
    "Using 5-folds cross-validation (`GridSearchCV`) pick up the optimal values of the `max_depth` and `criterion` parameters. For the parameter `max_depth` use `range(2, 9)`, for `criterion` use {'variance', 'mad_median'}. Quality measure is `scoring`='neg_mean_squared_error'."
   ]
  },
  {
   "cell_type": "code",
   "execution_count": 16,
   "metadata": {},
   "outputs": [
    {
     "name": "stderr",
     "output_type": "stream",
     "text": [
      "/home/yorko/anaconda3/lib/python3.7/site-packages/sklearn/model_selection/_search.py:841: DeprecationWarning: The default of the `iid` parameter will change from True to False in version 0.22 and will be removed in 0.24. This will change numeric results when test-set sizes are unequal.\n",
      "  DeprecationWarning)\n"
     ]
    },
    {
     "name": "stdout",
     "output_type": "stream",
     "text": [
      "CPU times: user 1.93 s, sys: 7.94 ms, total: 1.94 s\n",
      "Wall time: 13.7 s\n"
     ]
    }
   ],
   "source": [
    "%%time\n",
    "tree_params = {'max_depth': list(range(2, 9)), \n",
    "               'criterion': ['variance', 'mad_median']}\n",
    "\n",
    "reg = GridSearchCV(DecisionTree(), tree_params, \n",
    "                   cv=5, scoring='neg_mean_squared_error', n_jobs=8)\n",
    "\n",
    "reg.fit(X_train, y_train)"
   ]
  },
  {
   "cell_type": "markdown",
   "metadata": {},
   "source": [
    "Draw the plot of the mean quality measure `neg_mean_squared_error` for criteria `variance` and `mad_median` depending on `max_depth`."
   ]
  },
  {
   "cell_type": "code",
   "execution_count": 17,
   "metadata": {},
   "outputs": [
    {
     "data": {
      "image/png": "[encoded data removed]",
      "text/plain": [
       "<Figure size 432x288 with 1 Axes>"
      ]
     },
     "metadata": {
      "needs_background": "light"
     },
     "output_type": "display_data"
    }
   ],
   "source": [
    "scores = -np.array(reg.cv_results_['mean_test_score'])\n",
    "scores = scores.reshape(len(tree_params['criterion']), len(tree_params['max_depth']))\n",
    "\n",
    "for ind, i in enumerate(tree_params['criterion']):\n",
    "    plt.plot(tree_params['max_depth'], scores[ind], label=str(i))\n",
    "plt.legend()\n",
    "plt.xlabel('max_depth')\n",
    "plt.ylabel('MSE')\n",
    "plt.show();"
   ]
  },
  {
   "cell_type": "markdown",
   "metadata": {},
   "source": [
    "**4. Choose all correct statements:**\n",
    "1. Created plots have no intersection on the interval [2, 8].\n",
    "2. Created plots intersect each other only once on the interval [2, 8].\n",
    "3. Optimal value of the `max_depth` for each of the criteria is on the border of the interval [2, 8].\n",
    "4. **<font color='green'>The best quality at `max_depth` on the interval [2, 8] is reached using `mad_median` criterion.</font>**"
   ]
  },
  {
   "cell_type": "markdown",
   "metadata": {},
   "source": [
    "**5. What are the optimal values for `max_depth` and `criterion` parameters?**\n",
    "1. max_depth = 9, criterion = 'variance';\n",
    "2. **<font color='green'>max_depth = 5, criterion = 'mad_median';</font>**\n",
    "3. max_depth = 4, criterion = 'variance';\n",
    "4. max_depth = 2, criterion = 'mad_median';\n",
    "5. max_depth = 4, criterion = 'mad_median';\n",
    "6. max_depth = 5, criterion = 'variance'."
   ]
  },
  {
   "cell_type": "code",
   "execution_count": 18,
   "metadata": {},
   "outputs": [
    {
     "name": "stdout",
     "output_type": "stream",
     "text": [
      "Best params: {'criterion': 'mad_median', 'max_depth': 5}\n",
      "Best cross validaton MSE 21.162957262681424\n"
     ]
    }
   ],
   "source": [
    "print(\"Best params:\", reg.best_params_)\n",
    "print(\"Best cross validaton MSE\", abs(reg.best_score_))"
   ]
  }
 ],
 "metadata": {
  "kernelspec": {
   "display_name": "Python 3",
   "language": "python",
   "name": "python3"
  },
  "language_info": {
   "codemirror_mode": {
    "name": "ipython",
    "version": 3
   },
   "file_extension": ".py",
   "mimetype": "text/x-python",
   "name": "python",
   "nbconvert_exporter": "python",
   "pygments_lexer": "ipython3",
   "version": "3.7.1"
  },
  "name": "lesson4_part2_Decision_trees.ipynb"
 },
 "nbformat": 4,
 "nbformat_minor": 1
}
