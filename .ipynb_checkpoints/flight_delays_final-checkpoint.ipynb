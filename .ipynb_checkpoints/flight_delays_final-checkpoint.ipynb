{
 "cells": [
  {
   "cell_type": "code",
   "execution_count": 77,
   "metadata": {},
   "outputs": [],
   "source": [
    "import warnings\n",
    "warnings.filterwarnings('ignore')\n",
    "import numpy as np\n",
    "import pandas as pd\n",
    "from sklearn.preprocessing import StandardScaler, OneHotEncoder\n",
    "from sklearn.pipeline import Pipeline\n",
    "from sklearn.model_selection import train_test_split, TimeSeriesSplit, cross_val_score, GridSearchCV\n",
    "from sklearn.linear_model import LogisticRegression\n",
    "from sklearn.metrics import roc_auc_score\n",
    "from scipy.sparse import hstack,vstack,csr_matrix\n",
    "from sklearn.ensemble import RandomForestClassifier\n",
    "import xgboost"
   ]
  },
  {
   "cell_type": "code",
   "execution_count": 4,
   "metadata": {},
   "outputs": [],
   "source": [
    "train_df = pd.read_csv('flight\\\\flight_delays_train.csv')\n",
    "test_df = pd.read_csv('flight\\\\flight_delays_test.csv')"
   ]
  },
  {
   "cell_type": "code",
   "execution_count": 5,
   "metadata": {},
   "outputs": [],
   "source": [
    "y_train = train_df['dep_delayed_15min'].map({'Y': 1, 'N': 0}).values\n",
    "train_df['Route'] = train_df['Origin'] + \"-\" +train_df['Dest']\n",
    "test_df['Route'] = test_df['Origin'] + \"-\" +test_df['Dest']\n",
    "train_df.drop([\"dep_delayed_15min\", \"DayofMonth\"], axis=1, inplace=True)\n",
    "test_df.drop([\"DayofMonth\"], axis=1, inplace=True)"
   ]
  },
  {
   "cell_type": "code",
   "execution_count": 14,
   "metadata": {},
   "outputs": [],
   "source": [
    "routes = pd.concat([train_df['Route'], test_df['Route']],axis=0)\n",
    "carriers = pd.concat([train_df['UniqueCarrier'], test_df['UniqueCarrier']],axis=0)\n",
    "ohe = OneHotEncoder(sparse = True)"
   ]
  },
  {
   "cell_type": "code",
   "execution_count": 17,
   "metadata": {},
   "outputs": [],
   "source": [
    "weekday_ohe_train = ohe.fit_transform(train_df['DayOfWeek'].values.reshape(-1,1))\n",
    "month_ohe_train = ohe.fit_transform(train_df['Month'].values.reshape(-1,1))\n",
    "weekday_ohe_test = ohe.fit_transform(test_df['DayOfWeek'].values.reshape(-1,1))\n",
    "month_ohe_test = ohe.fit_transform(test_df['Month'].values.reshape(-1,1))"
   ]
  },
  {
   "cell_type": "code",
   "execution_count": 49,
   "metadata": {},
   "outputs": [
    {
     "data": {
      "text/plain": [
       "<100000x23 sparse matrix of type '<class 'numpy.float64'>'\n",
       "\twith 100000 stored elements in Compressed Sparse Row format>"
      ]
     },
     "execution_count": 49,
     "metadata": {},
     "output_type": "execute_result"
    }
   ],
   "source": [
    "carr_ohe = ohe.fit(carriers.values.reshape(-1,1))\n",
    "carr_ohe_train = carr_ohe.transform(train_df['UniqueCarrier'].values.reshape(-1,1))\n",
    "carr_ohe_test = carr_ohe.transform(test_df['UniqueCarrier'].values.reshape(-1,1))\n",
    "carr_ohe_train"
   ]
  },
  {
   "cell_type": "code",
   "execution_count": 50,
   "metadata": {},
   "outputs": [
    {
     "data": {
      "text/plain": [
       "<100000x5048 sparse matrix of type '<class 'numpy.float64'>'\n",
       "\twith 100000 stored elements in Compressed Sparse Row format>"
      ]
     },
     "execution_count": 50,
     "metadata": {},
     "output_type": "execute_result"
    }
   ],
   "source": [
    "route_ohe = ohe.fit(routes.values.reshape(-1,1))\n",
    "route_ohe_train = route_ohe.transform(train_df['Route'].values.reshape(-1,1))\n",
    "route_ohe_test = route_ohe.transform(test_df['Route'].values.reshape(-1,1))\n",
    "route_ohe_train"
   ]
  },
  {
   "cell_type": "code",
   "execution_count": 43,
   "metadata": {},
   "outputs": [],
   "source": [
    "dep_time_train = train_df['DepTime'].apply(lambda dt:dt).astype('float64')\n",
    "distance_train = train_df['Distance'].apply(lambda dt:dt).astype('float64')\n",
    "dep_time_test = test_df['DepTime'].apply(lambda dt:dt).astype('float64')\n",
    "distance_test = test_df['Distance'].apply(lambda dt:dt).astype('float64')\n",
    "dep_time_train = StandardScaler().fit_transform(dep_time_train.values.reshape(-1,1))\n",
    "dep_time_test = StandardScaler().fit_transform(dep_time_test.values.reshape(-1,1))\n",
    "distance_train = StandardScaler().fit_transform(distance_train.values.reshape(-1,1))\n",
    "distance_test = StandardScaler().fit_transform(distance_test.values.reshape(-1,1))"
   ]
  },
  {
   "cell_type": "code",
   "execution_count": 51,
   "metadata": {},
   "outputs": [],
   "source": [
    "result_train = hstack([weekday_ohe_train, month_ohe_train, carr_ohe_train, route_ohe_train, dep_time_train, distance_train])\n",
    "result_test = hstack([weekday_ohe_test, month_ohe_test, carr_ohe_test, route_ohe_test, dep_time_test, distance_test])"
   ]
  },
  {
   "cell_type": "code",
   "execution_count": 55,
   "metadata": {},
   "outputs": [],
   "source": [
    "X_train_part, X_valid, y_train_part, y_valid = \\\n",
    "    train_test_split(result_train, y_train, \n",
    "                     test_size=0.3, random_state=17)"
   ]
  },
  {
   "cell_type": "code",
   "execution_count": 58,
   "metadata": {},
   "outputs": [],
   "source": [
    "logit = LogisticRegression(C=1, random_state=17, solver='liblinear')\n",
    "time_split = TimeSeriesSplit(n_splits=10)"
   ]
  },
  {
   "cell_type": "code",
   "execution_count": 62,
   "metadata": {},
   "outputs": [
    {
     "data": {
      "text/plain": [
       "LogisticRegression(C=1, class_weight=None, dual=False, fit_intercept=True,\n",
       "          intercept_scaling=1, max_iter=100, multi_class='warn',\n",
       "          n_jobs=None, penalty='l2', random_state=17, solver='liblinear',\n",
       "          tol=0.0001, verbose=0, warm_start=False)"
      ]
     },
     "execution_count": 62,
     "metadata": {},
     "output_type": "execute_result"
    }
   ],
   "source": [
    "logit.fit(X_train_part, y_train_part)"
   ]
  },
  {
   "cell_type": "code",
   "execution_count": 63,
   "metadata": {},
   "outputs": [
    {
     "data": {
      "text/plain": [
       "0.6887778908371327"
      ]
     },
     "execution_count": 63,
     "metadata": {},
     "output_type": "execute_result"
    }
   ],
   "source": [
    "logit_valid_pred = logit.predict_proba(X_valid)[:, 1]\n",
    "roc_auc_score(y_valid, logit_valid_pred)"
   ]
  },
  {
   "cell_type": "code",
   "execution_count": 71,
   "metadata": {},
   "outputs": [],
   "source": [
    "rf = RandomForestClassifier(n_estimators=500, max_depth=30)"
   ]
  },
  {
   "cell_type": "code",
   "execution_count": 72,
   "metadata": {},
   "outputs": [
    {
     "data": {
      "text/plain": [
       "RandomForestClassifier(bootstrap=True, class_weight=None, criterion='gini',\n",
       "            max_depth=30, max_features='auto', max_leaf_nodes=None,\n",
       "            min_impurity_decrease=0.0, min_impurity_split=None,\n",
       "            min_samples_leaf=1, min_samples_split=2,\n",
       "            min_weight_fraction_leaf=0.0, n_estimators=500, n_jobs=None,\n",
       "            oob_score=False, random_state=None, verbose=0,\n",
       "            warm_start=False)"
      ]
     },
     "execution_count": 72,
     "metadata": {},
     "output_type": "execute_result"
    }
   ],
   "source": [
    "rf.fit(X_train_part, y_train_part)"
   ]
  },
  {
   "cell_type": "code",
   "execution_count": 73,
   "metadata": {},
   "outputs": [
    {
     "data": {
      "text/plain": [
       "0.6908316378963755"
      ]
     },
     "execution_count": 73,
     "metadata": {},
     "output_type": "execute_result"
    }
   ],
   "source": [
    "rf_valid_pred = rf.predict_proba(X_valid)[:, 1]\n",
    "roc_auc_score(y_valid, rf_valid_pred)"
   ]
  },
  {
   "cell_type": "code",
   "execution_count": 75,
   "metadata": {},
   "outputs": [],
   "source": [
    "rf_test_pred = rf.predict_proba(result_test)[:, 1]\n",
    "pd.Series(rf_test_pred, name='dep_delayed_15min').to_csv('random_forest.csv', index_label='id', header=True)"
   ]
  },
  {
   "cell_type": "code",
   "execution_count": 93,
   "metadata": {},
   "outputs": [],
   "source": [
    "xgb_model = xgboost.XGBClassifier()\n",
    "test_params = {\n",
    " \"learning_rate\"    : [0.05, 0.15, 0.20,  0.30 ] ,\n",
    " \"max_depth\"        : [6, 8, 12, 16],\n",
    " \"min_child_weight\" : [ 1, 3, 5],\n",
    " \"gamma\"            : [ 0.0, 0.1]\n",
    "}\n",
    "model = GridSearchCV(estimator = xgb_model,param_grid = test_params, n_jobs=-1, verbose=10)\n"
   ]
  },
  {
   "cell_type": "code",
   "execution_count": null,
   "metadata": {},
   "outputs": [
    {
     "name": "stdout",
     "output_type": "stream",
     "text": [
      "Fitting 3 folds for each of 96 candidates, totalling 288 fits\n"
     ]
    },
    {
     "name": "stderr",
     "output_type": "stream",
     "text": [
      "[Parallel(n_jobs=-1)]: Using backend LokyBackend with 4 concurrent workers.\n",
      "[Parallel(n_jobs=-1)]: Done   5 tasks      | elapsed:  2.1min\n"
     ]
    }
   ],
   "source": [
    "model.fit(X_train_part,y_train_part)\n",
    "print (model.best_params_)"
   ]
  },
  {
   "cell_type": "code",
   "execution_count": 79,
   "metadata": {},
   "outputs": [
    {
     "data": {
      "text/plain": [
       "0.7179236934587113"
      ]
     },
     "execution_count": 79,
     "metadata": {},
     "output_type": "execute_result"
    }
   ],
   "source": [
    "xgb_valid_pred = model.predict_proba(X_valid)[:, 1]\n",
    "roc_auc_score(y_valid, xgb_valid_pred)"
   ]
  },
  {
   "cell_type": "code",
   "execution_count": 80,
   "metadata": {},
   "outputs": [],
   "source": [
    "xgb_test_pred = model.predict_proba(result_test)[:, 1]\n",
    "pd.Series(xgb_test_pred, name='dep_delayed_15min').to_csv('xgboost.csv', index_label='id', header=True)"
   ]
  },
  {
   "cell_type": "code",
   "execution_count": null,
   "metadata": {},
   "outputs": [],
   "source": []
  }
 ],
 "metadata": {
  "kernelspec": {
   "display_name": "Python 3",
   "language": "python",
   "name": "python3"
  },
  "language_info": {
   "codemirror_mode": {
    "name": "ipython",
    "version": 3
   },
   "file_extension": ".py",
   "mimetype": "text/x-python",
   "name": "python",
   "nbconvert_exporter": "python",
   "pygments_lexer": "ipython3",
   "version": "3.7.1"
  }
 },
 "nbformat": 4,
 "nbformat_minor": 2
}
